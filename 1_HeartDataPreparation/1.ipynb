{
 "cells": [
  {
   "cell_type": "code",
   "execution_count": null,
   "id": "012e8514-6da3-49cb-a68c-7a01c5e77c80",
   "metadata": {},
   "outputs": [],
   "source": [
    "import pandas as pd\n",
    "import numpy as np\n",
    "import matplotlib.pyplot as plt\n",
    "import seaborn as sns\n"
   ]
  },
  {
   "cell_type": "code",
   "execution_count": null,
   "id": "32ee9d61-01aa-4974-aa5d-ba1453f0628a",
   "metadata": {},
   "outputs": [],
   "source": [
    "df = pd.read_csv('Heart.csv')\n",
    "print(df)"
   ]
  },
  {
   "cell_type": "code",
   "execution_count": null,
   "id": "25502f8d-1910-424e-a2b8-542071162280",
   "metadata": {},
   "outputs": [],
   "source": [
    "df.shape\n"
   ]
  },
  {
   "cell_type": "code",
   "execution_count": null,
   "id": "f4902119-5425-4eba-918d-b47214e36602",
   "metadata": {},
   "outputs": [],
   "source": [
    "df.head()\n"
   ]
  },
  {
   "cell_type": "code",
   "execution_count": null,
   "id": "ec7cee24-5e08-472b-b0fe-5449debb7653",
   "metadata": {},
   "outputs": [],
   "source": [
    "df.dtypes\n"
   ]
  },
  {
   "cell_type": "code",
   "execution_count": null,
   "id": "bea0618f-54c3-4e99-a8cf-72de2c322663",
   "metadata": {},
   "outputs": [],
   "source": [
    "df.isnull().sum()"
   ]
  },
  {
   "cell_type": "code",
   "execution_count": null,
   "id": "1ca85247-a4ae-40c4-abcd-803de5b46ae0",
   "metadata": {},
   "outputs": [],
   "source": [
    "(df==0).sum()\n"
   ]
  },
  {
   "cell_type": "code",
   "execution_count": null,
   "id": "b1308dc5-d259-4fcb-bd21-7d53538196d9",
   "metadata": {},
   "outputs": [],
   "source": [
    "df['Age'] .mean()\n"
   ]
  },
  {
   "cell_type": "code",
   "execution_count": null,
   "id": "8ba818f9-3b45-4303-8b15-3f8a99661303",
   "metadata": {},
   "outputs": [],
   "source": [
    "df.columns"
   ]
  },
  {
   "cell_type": "code",
   "execution_count": null,
   "id": "09ee390c-f506-489e-99b1-f0d1339f499b",
   "metadata": {},
   "outputs": [],
   "source": [
    "df.info\n"
   ]
  },
  {
   "cell_type": "code",
   "execution_count": null,
   "id": "d7e93788-91ed-4714-83e1-cacd57ce2220",
   "metadata": {},
   "outputs": [],
   "source": [
    "from sklearn.model_selection import train_test_split\n"
   ]
  },
  {
   "cell_type": "code",
   "execution_count": null,
   "id": "4e66732a-53f6-4b76-97b9-42d963b4faea",
   "metadata": {},
   "outputs": [],
   "source": [
    "hd=df[['Age', 'Sex', 'ChestPain','RestBP', 'Chol']]\n",
    "x=hd.drop('Chol',axis=1)\n",
    "y=hd['Chol']\n",
    "print(x)\n",
    "print(y)"
   ]
  },
  {
   "cell_type": "code",
   "execution_count": null,
   "id": "926bb769-52d5-4f9b-b72c-f49b4cf00dd0",
   "metadata": {},
   "outputs": [],
   "source": [
    "Now let's split the dataset\n"
   ]
  },
  {
   "cell_type": "code",
   "execution_count": null,
   "id": "59f8ec3c-6e23-40e8-9a96-577209778fc6",
   "metadata": {},
   "outputs": [],
   "source": [
    "xtrain, xtest, ytrain, ytest=train_test_split(x,y,test_size=0.25)\n",
    "xtrain.shape\n"
   ]
  },
  {
   "cell_type": "code",
   "execution_count": null,
   "id": "c6321355-d52a-46c8-ab3c-b723d90efe67",
   "metadata": {},
   "outputs": [],
   "source": [
    "ytest.shape"
   ]
  },
  {
   "cell_type": "code",
   "execution_count": null,
   "id": "63e31e20-76ec-41e1-9531-f0b3e1726e3c",
   "metadata": {},
   "outputs": [],
   "source": [
    "df['Sex'] = df['Sex'] .replace([1], 'Male')\n",
    "df['Sex'] = df['Sex'] .replace([0], 'Female')\n",
    "print(df)\n"
   ]
  },
  {
   "cell_type": "code",
   "execution_count": null,
   "id": "74e7fcfb-e9e5-4b30-96d3-0d8bcd46395f",
   "metadata": {},
   "outputs": [],
   "source": [
    "df1 = df[df['AHD'].values == 'Yes']\n",
    "print (df1)\n",
    "print(df1.Age.max())\n",
    "print(df1.Age.min())\n"
   ]
  },
  {
   "cell_type": "code",
   "execution_count": null,
   "id": "b801f6a1-3db8-4f0d-a42d-9dd5e5d8f831",
   "metadata": {},
   "outputs": [],
   "source": [
    "df.groupby('AHD') .AHD.count() .plot.bar(ylim=0)\n",
    "plt.plot()\n"
   ]
  },
  {
   "cell_type": "code",
   "execution_count": null,
   "id": "ff7c3784-cc6d-40b3-ac11-878a0b68657b",
   "metadata": {},
   "outputs": [],
   "source": [
    "df.plot(kind='box',subplots=True, layout=(2,7),sharex=False, figsize=(20,10),color='blue')"
   ]
  },
  {
   "cell_type": "code",
   "execution_count": null,
   "id": "9d42ef82-ccff-44ee-8cae-2e9f5d5c7d05",
   "metadata": {},
   "outputs": [],
   "source": [
    "df['Age'].hist(figsize=(10,13))\n",
    "plt.title('Age Histogram')\n"
   ]
  },
  {
   "cell_type": "code",
   "execution_count": null,
   "id": "299653d2-38ea-4bd1-ba78-1641342072bb",
   "metadata": {},
   "outputs": [],
   "source": [
    "df.hist (figsize=(12,15))\n",
    "plt.show()\n"
   ]
  },
  {
   "cell_type": "code",
   "execution_count": null,
   "id": "8dae8410-e7fb-47cc-9784-f08ff6db7525",
   "metadata": {},
   "outputs": [],
   "source": [
    "pd.crosstab(df.Age,df.AHD) .plot(kind='bar',figsize=(12,15))\n",
    "plt.title('Barchart for Age V AHD')\n"
   ]
  },
  {
   "cell_type": "code",
   "execution_count": null,
   "id": "e77a30e9-809a-4100-ad0d-9a924a3318cc",
   "metadata": {},
   "outputs": [],
   "source": [
    "pd.crosstab(df.Age,df.ChestPain).plot(kind='bar',figsize=(15,18))\n",
    "plt.title('Barchart for Age V chestpain')"
   ]
  },
  {
   "cell_type": "code",
   "execution_count": null,
   "id": "9b7c5e37-5f52-498f-8160-a3b38111a012",
   "metadata": {},
   "outputs": [],
   "source": [
    "plt.scatter(df[df['AHD'] == 'No']['Age'], df[df['AHD'] == 'No']['Chol'], marker='o', c='blue', label='Healthy')\n",
    "plt.scatter(df[df['AHD'] == 'Yes']['Age'], df[df['AHD'] == 'Yes']['Chol'], marker='o', c='red', label='Not-Healthy')\n",
    "plt.legend()\n",
    "\n"
   ]
  },
  {
   "cell_type": "code",
   "execution_count": null,
   "id": "1a843b22-98ce-4ef8-b2c0-5ab089853fb8",
   "metadata": {},
   "outputs": [],
   "source": [
    "sns.countplot(x='AHD',hue='AHD',data=df)"
   ]
  },
  {
   "cell_type": "code",
   "execution_count": null,
   "id": "1509703d-7fd7-4bc9-9b5d-c43f98f4c9c8",
   "metadata": {},
   "outputs": [],
   "source": [
    "sns.boxplot(x='AHD',y='Oldpeak', data=df)"
   ]
  },
  {
   "cell_type": "code",
   "execution_count": null,
   "id": "4d1b9be5-6bcc-4a5b-a464-0fa7630ec3fe",
   "metadata": {},
   "outputs": [],
   "source": [
    "sns.scatterplot(x='Chol', y='RestBP',hue='Sex',size=None,data=df)"
   ]
  },
  {
   "cell_type": "code",
   "execution_count": null,
   "id": "783e4475-c790-4ff4-8a57-2900bcd3194a",
   "metadata": {},
   "outputs": [],
   "source": [
    "sns.scatterplot(x='Chol',y='RestBP',hue='Sex',size=None,data=df)"
   ]
  },
  {
   "cell_type": "code",
   "execution_count": null,
   "id": "ae56d284-820a-462a-9047-15e2fa033699",
   "metadata": {},
   "outputs": [],
   "source": [
    "sns.pairplot(df,kind='Scatter',diag_kind='hist')\n",
    "plt.show()\n"
   ]
  },
  {
   "cell_type": "code",
   "execution_count": null,
   "id": "92a4eeea-035f-48ff-8e63-e7334448ec64",
   "metadata": {},
   "outputs": [],
   "source": [
    "sns.violinplot(x='Sex', y='Age', data=df, hue='Sex', palette={\"Male\": \"lightblue\", \"Female\": \"lightpink\"}, legend=False)\n"
   ]
  },
  {
   "cell_type": "code",
   "execution_count": null,
   "id": "98a97ae5-ce5e-4bac-8c2f-7780f5864fe1",
   "metadata": {},
   "outputs": [],
   "source": [
    "df.Age.value_counts()[:10]\n",
    "sns.barplot(x=df.Age.value_counts()[:10].index,y=df.Age.value_counts()[:10].values)"
   ]
  },
  {
   "cell_type": "code",
   "execution_count": null,
   "id": "d01f6615-9557-42a5-a02a-260875958017",
   "metadata": {},
   "outputs": [],
   "source": [
    "sns.regplot(x='Age',y='RestBP',data=df)"
   ]
  },
  {
   "cell_type": "code",
   "execution_count": null,
   "id": "5b277d38-f063-465c-9186-963879ffeef4",
   "metadata": {},
   "outputs": [],
   "source": [
    "but this line doesnt seems to be goof"
   ]
  },
  {
   "cell_type": "code",
   "execution_count": null,
   "id": "0bb76f58-c457-4bfb-8044-04777350ab8a",
   "metadata": {},
   "outputs": [],
   "source": [
    "sns.countplot(x='ChestPain',data=df)"
   ]
  },
  {
   "cell_type": "code",
   "execution_count": null,
   "id": "11552149-3eff-41a6-8034-ce87323a2f8a",
   "metadata": {},
   "outputs": [],
   "source": [
    "Done"
   ]
  }
 ],
 "metadata": {
  "kernelspec": {
   "display_name": "Python 3 (ipykernel)",
   "language": "python",
   "name": "python3"
  },
  "language_info": {
   "codemirror_mode": {
    "name": "ipython",
    "version": 3
   },
   "file_extension": ".py",
   "mimetype": "text/x-python",
   "name": "python",
   "nbconvert_exporter": "python",
   "pygments_lexer": "ipython3",
   "version": "3.12.4"
  }
 },
 "nbformat": 4,
 "nbformat_minor": 5
}
